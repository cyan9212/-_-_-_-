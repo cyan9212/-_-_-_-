{
  "nbformat": 4,
  "nbformat_minor": 0,
  "metadata": {
    "colab": {
      "name": "Regular Expression.ipynb",
      "provenance": [],
      "collapsed_sections": []
    },
    "kernelspec": {
      "name": "python3",
      "display_name": "Python 3"
    },
    "language_info": {
      "name": "python"
    }
  },
  "cells": [
    {
      "cell_type": "markdown",
      "source": [
        "# 정규 표현식(Regular Expression)"
      ],
      "metadata": {
        "id": "gLFLWlQZAoAA"
      }
    },
    {
      "cell_type": "code",
      "source": [
        "import re"
      ],
      "metadata": {
        "id": "n0BYNUlHApAl"
      },
      "execution_count": null,
      "outputs": []
    },
    {
      "cell_type": "markdown",
      "source": [
        "## 1) .기호\n",
        "- .은 한 개의 임의의 문자를 나타낸다.\n",
        "\n"
      ],
      "metadata": {
        "id": "TpItgrM3AynI"
      }
    },
    {
      "cell_type": "code",
      "source": [
        "r = re.compile('a.c')\n",
        "r.search('aaa')"
      ],
      "metadata": {
        "id": "q1ld3ypxAx4k"
      },
      "execution_count": null,
      "outputs": []
    },
    {
      "cell_type": "code",
      "source": [
        "r.search('abc')"
      ],
      "metadata": {
        "colab": {
          "base_uri": "https://localhost:8080/"
        },
        "id": "YBNDzaCKA941",
        "outputId": "45f0e26a-b965-4930-cbf8-4b445190500c"
      },
      "execution_count": null,
      "outputs": [
        {
          "output_type": "execute_result",
          "data": {
            "text/plain": [
              "<re.Match object; span=(0, 3), match='abc'>"
            ]
          },
          "metadata": {},
          "execution_count": 4
        }
      ]
    },
    {
      "cell_type": "markdown",
      "source": [
        "## 2) ?기호\n",
        "- ?는 ?앞의 문자가 존재할 수도 있고 존재하지 않을 수도 있는 경우를 나타낸다."
      ],
      "metadata": {
        "id": "qonaaoBBBETC"
      }
    },
    {
      "cell_type": "code",
      "source": [
        "r = re.compile('ab?c')\n",
        "r.search('abbc')"
      ],
      "metadata": {
        "id": "TJl42Vw_BBpG"
      },
      "execution_count": null,
      "outputs": []
    },
    {
      "cell_type": "code",
      "source": [
        "r.search('ac')"
      ],
      "metadata": {
        "colab": {
          "base_uri": "https://localhost:8080/"
        },
        "id": "LAzRkowOBNVb",
        "outputId": "97073c3c-9638-4826-9a9b-fa6072956158"
      },
      "execution_count": null,
      "outputs": [
        {
          "output_type": "execute_result",
          "data": {
            "text/plain": [
              "<re.Match object; span=(0, 2), match='ac'>"
            ]
          },
          "metadata": {},
          "execution_count": 7
        }
      ]
    },
    {
      "cell_type": "code",
      "source": [
        "r.search('abc')"
      ],
      "metadata": {
        "colab": {
          "base_uri": "https://localhost:8080/"
        },
        "id": "pRnVCwmIBRQ0",
        "outputId": "82f16f95-3ffd-430a-8498-498c267ea4c2"
      },
      "execution_count": null,
      "outputs": [
        {
          "output_type": "execute_result",
          "data": {
            "text/plain": [
              "<re.Match object; span=(0, 3), match='abc'>"
            ]
          },
          "metadata": {},
          "execution_count": 8
        }
      ]
    },
    {
      "cell_type": "markdown",
      "source": [
        "## 3) *기호\n",
        "- *은 바로 앞의 문자가 0개 이상일 경우를 나타낸다.\n",
        "- 앞의 문자는 존재하지 않을 수도 있으며, 여러 개일 수도 있다."
      ],
      "metadata": {
        "id": "GYa-Zqv6BeIx"
      }
    },
    {
      "cell_type": "code",
      "source": [
        "r = re.compile('ab*c')\n",
        "r.search('a')"
      ],
      "metadata": {
        "id": "bwIQ_vcABVuV"
      },
      "execution_count": null,
      "outputs": []
    },
    {
      "cell_type": "code",
      "source": [
        "r.search('ac')"
      ],
      "metadata": {
        "colab": {
          "base_uri": "https://localhost:8080/"
        },
        "id": "2OVxppyuBtqd",
        "outputId": "ea7fb86d-6cb7-42f8-81a0-a25e29955971"
      },
      "execution_count": null,
      "outputs": [
        {
          "output_type": "execute_result",
          "data": {
            "text/plain": [
              "<re.Match object; span=(0, 2), match='ac'>"
            ]
          },
          "metadata": {},
          "execution_count": 12
        }
      ]
    },
    {
      "cell_type": "code",
      "source": [
        "r.search('abbbbc')"
      ],
      "metadata": {
        "colab": {
          "base_uri": "https://localhost:8080/"
        },
        "id": "PTVdma-GBvxs",
        "outputId": "4db216de-8441-4395-f980-9965b34f5c51"
      },
      "execution_count": null,
      "outputs": [
        {
          "output_type": "execute_result",
          "data": {
            "text/plain": [
              "<re.Match object; span=(0, 6), match='abbbbc'>"
            ]
          },
          "metadata": {},
          "execution_count": 13
        }
      ]
    },
    {
      "cell_type": "markdown",
      "source": [
        "## 4) +기호\n",
        "- +는 *와 유사하며 다른 점은 앞의 문자가 최소 1개 이상이라는 부분이다."
      ],
      "metadata": {
        "id": "8MuK96QRB6NM"
      }
    },
    {
      "cell_type": "code",
      "source": [
        "r = re.compile('ab+c')\n",
        "r.search('ac')"
      ],
      "metadata": {
        "id": "T0VpnSq0B3W0"
      },
      "execution_count": null,
      "outputs": []
    },
    {
      "cell_type": "code",
      "source": [
        "r.search('abc')"
      ],
      "metadata": {
        "colab": {
          "base_uri": "https://localhost:8080/"
        },
        "id": "Uaf9sutxCIHE",
        "outputId": "e2d7bb4c-efd8-47dd-cf78-40fca5919920"
      },
      "execution_count": null,
      "outputs": [
        {
          "output_type": "execute_result",
          "data": {
            "text/plain": [
              "<re.Match object; span=(0, 3), match='abc'>"
            ]
          },
          "metadata": {},
          "execution_count": 15
        }
      ]
    },
    {
      "cell_type": "markdown",
      "source": [
        "## 5) ^기호\n",
        "- ^는 시작되는 문자열을 지정한다.\n",
        "- 정규표현식이 ^ab라면 문자열 ab로 시작되는 경우 매치합니다."
      ],
      "metadata": {
        "id": "A0L7XC0wCLWc"
      }
    },
    {
      "cell_type": "code",
      "source": [
        "r = re.compile('^ab')\n",
        "\n",
        "r.search('bbb')\n",
        "r.search('zab')"
      ],
      "metadata": {
        "id": "-s6xI1VJCJlb"
      },
      "execution_count": null,
      "outputs": []
    },
    {
      "cell_type": "code",
      "source": [
        "r.search('abz')"
      ],
      "metadata": {
        "colab": {
          "base_uri": "https://localhost:8080/"
        },
        "id": "u2JQDg0LCTN7",
        "outputId": "506f2e37-fca2-4752-e791-06e407d3444b"
      },
      "execution_count": null,
      "outputs": [
        {
          "output_type": "execute_result",
          "data": {
            "text/plain": [
              "<re.Match object; span=(0, 2), match='ab'>"
            ]
          },
          "metadata": {},
          "execution_count": 18
        }
      ]
    },
    {
      "cell_type": "markdown",
      "source": [
        "## 6) {숫자} 기호\n",
        "- 문자에 해당 기호를 붙이면, 해당 문자를 숫자만큼 반복한 것을 나타낸다.\n",
        "- 예를 들어서 정규 표현식이 ab{2}c라면 a와 c 사이에 b가 존재하면서 b가 2개인 문자열에 대해서 매치합니다."
      ],
      "metadata": {
        "id": "63SI5IYNCgX3"
      }
    },
    {
      "cell_type": "code",
      "source": [
        "r = re.compile('ab{2}c')\n",
        "r.search('abc')\n",
        "r.search('abc')"
      ],
      "metadata": {
        "id": "XERh6UwJCeKs"
      },
      "execution_count": null,
      "outputs": []
    },
    {
      "cell_type": "code",
      "source": [
        "r.search('abbc')"
      ],
      "metadata": {
        "colab": {
          "base_uri": "https://localhost:8080/"
        },
        "id": "XyXVI_VECte7",
        "outputId": "c4eb7783-03c1-444b-ee92-ca574447e9e1"
      },
      "execution_count": null,
      "outputs": [
        {
          "output_type": "execute_result",
          "data": {
            "text/plain": [
              "<re.Match object; span=(0, 4), match='abbc'>"
            ]
          },
          "metadata": {},
          "execution_count": 20
        }
      ]
    },
    {
      "cell_type": "markdown",
      "source": [
        "## 7) {숫자1, 숫자2} 기호\n",
        "- 문자에 해당 기호를 붙이면, 해당 문자를 숫자1 이상 숫자2 이하만큼 반복\n",
        "- 예를 들어서 정규 표현식이 ab{2,8}c라면 a와 c 사이에 b가 존재하면서 b는 2개 이상 8개 이하인 문자열에 대해서 매치합니다."
      ],
      "metadata": {
        "id": "DRjWnvjvCvm0"
      }
    },
    {
      "cell_type": "code",
      "source": [
        "r = re.compile('ab{2,8}c')\n",
        "r.search('abc')\n",
        "r.search('abbbbbbbbbc')"
      ],
      "metadata": {
        "id": "fdCHziwlCuw7"
      },
      "execution_count": null,
      "outputs": []
    },
    {
      "cell_type": "code",
      "source": [
        "r.search('abbbc')"
      ],
      "metadata": {
        "colab": {
          "base_uri": "https://localhost:8080/"
        },
        "id": "qy4hiCUiC7Gc",
        "outputId": "2fdea7c8-a775-4327-e111-ccb6c1f934b6"
      },
      "execution_count": null,
      "outputs": [
        {
          "output_type": "execute_result",
          "data": {
            "text/plain": [
              "<re.Match object; span=(0, 5), match='abbbc'>"
            ]
          },
          "metadata": {},
          "execution_count": 22
        }
      ]
    },
    {
      "cell_type": "markdown",
      "source": [
        "## 8) {숫자,} 기호\n",
        "- 문자에 해당 기호를 붙이면 해당 문자를 숫자 이상 만큼 반복\n",
        "- 예를 들어서 정규 표현식이 a{2,}bc라면 뒤에 bc가 붙으면서 a의 개수가 2개 이상인 경우인 문자열과 매치한다.\n",
        "- 만약 {0,}을 쓴다면 *와 동일한 의미가 되며, {1,}을 쓴다면 +와 동일한 의미가 된다."
      ],
      "metadata": {
        "id": "3Nnkmq6DC_ER"
      }
    },
    {
      "cell_type": "code",
      "source": [
        "r = re.compile('a{2,}bc')\n",
        "r.search('abc')"
      ],
      "metadata": {
        "id": "4UXrIN3-C8yk"
      },
      "execution_count": null,
      "outputs": []
    },
    {
      "cell_type": "code",
      "source": [
        "r.search('aabc')"
      ],
      "metadata": {
        "colab": {
          "base_uri": "https://localhost:8080/"
        },
        "id": "lstG-nTkDS5M",
        "outputId": "6c5ad774-be1b-484b-d9d8-19ca4b01f783"
      },
      "execution_count": null,
      "outputs": [
        {
          "output_type": "execute_result",
          "data": {
            "text/plain": [
              "<re.Match object; span=(0, 4), match='aabc'>"
            ]
          },
          "metadata": {},
          "execution_count": 24
        }
      ]
    },
    {
      "cell_type": "code",
      "source": [
        "r.search('aaabc')"
      ],
      "metadata": {
        "colab": {
          "base_uri": "https://localhost:8080/"
        },
        "id": "iM7Z_oqwDUDT",
        "outputId": "5ce82f7b-7e2d-41ca-ebde-6bc74a5cf78c"
      },
      "execution_count": null,
      "outputs": [
        {
          "output_type": "execute_result",
          "data": {
            "text/plain": [
              "<re.Match object; span=(0, 5), match='aaabc'>"
            ]
          },
          "metadata": {},
          "execution_count": 25
        }
      ]
    },
    {
      "cell_type": "markdown",
      "source": [
        "## 9) [ ] 기호\n",
        "- [ ]안에 문자들을 넣으면 그 문자들 중 한 개의 문자와 매치라는 의미\n",
        "- 예를 들어서 정규 표현식이 [abc]라면, a 또는 b또는 c가 들어가있는 문자열과 매치됩니다. \n",
        "- 범위를 지정하는 것도 가능합니다. [a-zA-Z]는 알파벳 전부를 의미하며, [0-9]는 숫자 전부를 의미합니다."
      ],
      "metadata": {
        "id": "Kznyc1PxDXLh"
      }
    },
    {
      "cell_type": "code",
      "source": [
        "r = re.compile('[abc]')\n",
        "r.search('def')"
      ],
      "metadata": {
        "id": "SNfR6cCTDVdL"
      },
      "execution_count": null,
      "outputs": []
    },
    {
      "cell_type": "code",
      "source": [
        "r.search('a')"
      ],
      "metadata": {
        "colab": {
          "base_uri": "https://localhost:8080/"
        },
        "id": "i4L4dPlxDjVz",
        "outputId": "a47141d7-2dca-4a85-a2b6-b9258e61650d"
      },
      "execution_count": null,
      "outputs": [
        {
          "output_type": "execute_result",
          "data": {
            "text/plain": [
              "<re.Match object; span=(0, 1), match='a'>"
            ]
          },
          "metadata": {},
          "execution_count": 27
        }
      ]
    },
    {
      "cell_type": "code",
      "source": [
        "r.search('abc')"
      ],
      "metadata": {
        "colab": {
          "base_uri": "https://localhost:8080/"
        },
        "id": "RdeV9PxVDkyr",
        "outputId": "145d2007-85ef-4d88-bfef-106118c8d5c8"
      },
      "execution_count": null,
      "outputs": [
        {
          "output_type": "execute_result",
          "data": {
            "text/plain": [
              "<re.Match object; span=(0, 1), match='a'>"
            ]
          },
          "metadata": {},
          "execution_count": 28
        }
      ]
    },
    {
      "cell_type": "code",
      "source": [
        "r = re.compile('[a-z]')\n",
        "r.search('ABC')\n",
        "r.search('123')"
      ],
      "metadata": {
        "id": "F4dnV1NADmLT"
      },
      "execution_count": null,
      "outputs": []
    },
    {
      "cell_type": "code",
      "source": [
        "r.search('abc')"
      ],
      "metadata": {
        "colab": {
          "base_uri": "https://localhost:8080/"
        },
        "id": "BV3Vq1iGDtkr",
        "outputId": "0fd765ba-7344-4305-b22d-00013616d13e"
      },
      "execution_count": null,
      "outputs": [
        {
          "output_type": "execute_result",
          "data": {
            "text/plain": [
              "<re.Match object; span=(0, 1), match='a'>"
            ]
          },
          "metadata": {},
          "execution_count": 36
        }
      ]
    },
    {
      "cell_type": "code",
      "source": [
        "r.search('aBCE')"
      ],
      "metadata": {
        "colab": {
          "base_uri": "https://localhost:8080/"
        },
        "id": "PGqA-MAdDv87",
        "outputId": "63a2f987-4ecb-422f-bda9-fc61d9d3bd3b"
      },
      "execution_count": null,
      "outputs": [
        {
          "output_type": "execute_result",
          "data": {
            "text/plain": [
              "<re.Match object; span=(0, 1), match='a'>"
            ]
          },
          "metadata": {},
          "execution_count": 37
        }
      ]
    },
    {
      "cell_type": "markdown",
      "source": [
        "## 10) [^문자] 기호\n",
        "- [^문자]는 ^기호 뒤에 붙은 문자들을 제외한 모든 문자를 매치하는 역할\n",
        "- 예를 들어서 [^abc]라는 정규 표현식이 있다면, a 또는 b 또는 c가 들어간 문자열을 제외한 모든 문자열을 매치합니다."
      ],
      "metadata": {
        "id": "_fkPLtycD9ir"
      }
    },
    {
      "cell_type": "code",
      "source": [
        "r = re.compile('[^abc]')\n",
        "r.search('abc')"
      ],
      "metadata": {
        "id": "dFqdczLvD8qj"
      },
      "execution_count": null,
      "outputs": []
    },
    {
      "cell_type": "code",
      "source": [
        "r.search('d')"
      ],
      "metadata": {
        "colab": {
          "base_uri": "https://localhost:8080/"
        },
        "id": "Zou3jU-2EHey",
        "outputId": "a05735dd-9b49-4cd7-dccf-558cfe131297"
      },
      "execution_count": null,
      "outputs": [
        {
          "output_type": "execute_result",
          "data": {
            "text/plain": [
              "<re.Match object; span=(0, 1), match='d'>"
            ]
          },
          "metadata": {},
          "execution_count": 39
        }
      ]
    },
    {
      "cell_type": "code",
      "source": [
        "r.search('1')"
      ],
      "metadata": {
        "colab": {
          "base_uri": "https://localhost:8080/"
        },
        "id": "K_lRT-fyEJRS",
        "outputId": "879cf313-8341-40dd-d299-463a1eb1344b"
      },
      "execution_count": null,
      "outputs": [
        {
          "output_type": "execute_result",
          "data": {
            "text/plain": [
              "<re.Match object; span=(0, 1), match='1'>"
            ]
          },
          "metadata": {},
          "execution_count": 40
        }
      ]
    },
    {
      "cell_type": "markdown",
      "source": [
        "# 정규 표현식 모듈 함수 예제"
      ],
      "metadata": {
        "id": "U0vbH3zKEP0Q"
      }
    },
    {
      "cell_type": "markdown",
      "source": [
        "## (1) re.match() 와 re.search()의 차이\n",
        "- search()가 정규 표현식 전체에 대해서 문자열이 매치하는지를 본다면, match()는 문자열의 첫 부분부터 정규 표현식과 매치하는지를 확인\n",
        "- 문자열 중간에 찾을 패턴이 있더라도 match 함수는 문자열의 시작에서 패턴이 일치하지 않으면 찾지 않는다."
      ],
      "metadata": {
        "id": "T9HW7tEtEVFq"
      }
    },
    {
      "cell_type": "code",
      "source": [
        "r = re.compile('ab.')"
      ],
      "metadata": {
        "id": "IbHbY7egELP7"
      },
      "execution_count": null,
      "outputs": []
    },
    {
      "cell_type": "code",
      "source": [
        "r.match('cccabc')"
      ],
      "metadata": {
        "id": "PWjZMF0WEpcL"
      },
      "execution_count": null,
      "outputs": []
    },
    {
      "cell_type": "code",
      "source": [
        "r.search('cccabc')"
      ],
      "metadata": {
        "colab": {
          "base_uri": "https://localhost:8080/"
        },
        "id": "XRmewmeeEk6q",
        "outputId": "bd8080db-0ef2-4e2a-eec5-2cce97811e4f"
      },
      "execution_count": null,
      "outputs": [
        {
          "output_type": "execute_result",
          "data": {
            "text/plain": [
              "<re.Match object; span=(3, 6), match='abc'>"
            ]
          },
          "metadata": {},
          "execution_count": 44
        }
      ]
    },
    {
      "cell_type": "code",
      "source": [
        "r.match('abcdef')"
      ],
      "metadata": {
        "colab": {
          "base_uri": "https://localhost:8080/"
        },
        "id": "97eFOnieEq-q",
        "outputId": "40afa27e-f388-4777-85c4-f6d597c083a5"
      },
      "execution_count": null,
      "outputs": [
        {
          "output_type": "execute_result",
          "data": {
            "text/plain": [
              "<re.Match object; span=(0, 3), match='abc'>"
            ]
          },
          "metadata": {},
          "execution_count": 45
        }
      ]
    },
    {
      "cell_type": "markdown",
      "source": [
        "## (2) re.split()\n",
        "- split() 함수는 입력된 정규 표현식을 기준으로 문자열들을 분리하여 리스트로 리턴\n",
        "- 토큰화에 유용하게 쓰일 수 있다."
      ],
      "metadata": {
        "id": "o10AEBEvE3rx"
      }
    },
    {
      "cell_type": "code",
      "source": [
        "# 공백 기준 분리\n",
        "text = \"사과 딸기 수박 메론 바나나\"\n",
        "re.split(' ', text)"
      ],
      "metadata": {
        "colab": {
          "base_uri": "https://localhost:8080/"
        },
        "id": "e7Kx6wXtEwhz",
        "outputId": "016cfc89-d221-47a8-8ef8-96c4448615b0"
      },
      "execution_count": null,
      "outputs": [
        {
          "output_type": "execute_result",
          "data": {
            "text/plain": [
              "['사과', '딸기', '수박', '메론', '바나나']"
            ]
          },
          "metadata": {},
          "execution_count": 47
        }
      ]
    },
    {
      "cell_type": "code",
      "source": [
        "# 줄바꿈 기준 분리\n",
        "text = \"\"\"사과\n",
        "딸기\n",
        "수박\n",
        "메론\n",
        "바나나\"\"\"\n",
        "\n",
        "re.split('\\n', text)"
      ],
      "metadata": {
        "colab": {
          "base_uri": "https://localhost:8080/"
        },
        "id": "FqA-4hrkFDx6",
        "outputId": "7aad1185-c4e7-4631-a9c3-df33a56153bb"
      },
      "execution_count": null,
      "outputs": [
        {
          "output_type": "execute_result",
          "data": {
            "text/plain": [
              "['사과', '딸기', '수박', '메론', '바나나']"
            ]
          },
          "metadata": {},
          "execution_count": 48
        }
      ]
    },
    {
      "cell_type": "code",
      "source": [
        "# '+'를 기준으로 분리\n",
        "text = \"사과+딸기+수박+메론+바나나\"\n",
        "\n",
        "re.split('\\+', text)"
      ],
      "metadata": {
        "colab": {
          "base_uri": "https://localhost:8080/"
        },
        "id": "EPW8hKayFKQy",
        "outputId": "07d1e0ef-9a4c-45c4-e047-cd32aab453e2"
      },
      "execution_count": null,
      "outputs": [
        {
          "output_type": "execute_result",
          "data": {
            "text/plain": [
              "['사과', '딸기', '수박', '메론', '바나나']"
            ]
          },
          "metadata": {},
          "execution_count": 50
        }
      ]
    },
    {
      "cell_type": "markdown",
      "source": [
        "## (3) re.findall()\n",
        "- findall() 함수는 정규 표현식과 매치되는 모든 문자열들을 리스트로 리턴\n",
        "- 매치되는 문자열이 없다면 빈 리스트를 리턴\n",
        "- 임의의 텍스트에 정규 표현식으로 숫자를 의미하는 규칙으로 findall()을 수행하면 전체 텍스트로부터 숫자만 찾아내서 리스트로 리턴"
      ],
      "metadata": {
        "id": "Yh_WOtLgFWnv"
      }
    },
    {
      "cell_type": "code",
      "source": [
        "text = \"\"\"이름 : 김철수\n",
        "전화번호 : 010 - 1234 - 1234\n",
        "나이 : 30\n",
        "성별 : 남\"\"\"\n",
        "\n",
        "re.findall('\\d+', text)"
      ],
      "metadata": {
        "colab": {
          "base_uri": "https://localhost:8080/"
        },
        "id": "8EC5LsYqFNli",
        "outputId": "dfd07206-7d04-430b-ddc3-21caff515968"
      },
      "execution_count": null,
      "outputs": [
        {
          "output_type": "execute_result",
          "data": {
            "text/plain": [
              "['010', '1234', '1234', '30']"
            ]
          },
          "metadata": {},
          "execution_count": 51
        }
      ]
    },
    {
      "cell_type": "code",
      "source": [
        "re.findall(\"\\d+\", \"문자열입니다.\")"
      ],
      "metadata": {
        "colab": {
          "base_uri": "https://localhost:8080/"
        },
        "id": "VkFJ-B5NFnp7",
        "outputId": "7dbb9a87-86ac-459f-e32d-f5082f31918d"
      },
      "execution_count": null,
      "outputs": [
        {
          "output_type": "execute_result",
          "data": {
            "text/plain": [
              "[]"
            ]
          },
          "metadata": {},
          "execution_count": 52
        }
      ]
    },
    {
      "cell_type": "markdown",
      "source": [
        "## (4) re.sub()\n",
        "- sub() 함수는 정규 표현식 패턴과 일치하는 문자열을 찾아 다른 문자열로 대체\n",
        "- 정제 작업에 많이 사용되는데, 영어 문장에 각주 등과 같은 이유로 특수 문자가 섞여있는 경우에 특수 문자를 제거하고 싶다면 알파벳 외의 문자는 공백으로 처리하는 등의 용도로 쓸 수 있습니다."
      ],
      "metadata": {
        "id": "aqlq5LRfFyJ5"
      }
    },
    {
      "cell_type": "code",
      "source": [
        "text = \"Regular expression : A regular expression, regex or regexp[1] (sometimes called a rational expression)[2][3] is, in theoretical computer science and formal language theory, a sequence of characters that define a search pattern.\"\n",
        "\n",
        "preprocessed_text = re.sub('[^a-zA-Z]', ' ', text)\n",
        "print(preprocessed_text)"
      ],
      "metadata": {
        "colab": {
          "base_uri": "https://localhost:8080/"
        },
        "id": "pLE-7crAFrBa",
        "outputId": "02411a8b-2946-46c8-caa4-c74085d25362"
      },
      "execution_count": null,
      "outputs": [
        {
          "output_type": "stream",
          "name": "stdout",
          "text": [
            "Regular expression   A regular expression  regex or regexp     sometimes called a rational expression        is  in theoretical computer science and formal language theory  a sequence of characters that define a search pattern \n"
          ]
        }
      ]
    },
    {
      "cell_type": "markdown",
      "source": [
        "# 정규 표현식 텍스트 전처리 예제"
      ],
      "metadata": {
        "id": "0qDkTq2BGZJG"
      }
    },
    {
      "cell_type": "code",
      "source": [
        "text = \"\"\"100 John    PROF\n",
        "101 James   STUD\n",
        "102 Mac   STUD\"\"\""
      ],
      "metadata": {
        "id": "QI76rOqXGGkK"
      },
      "execution_count": null,
      "outputs": []
    },
    {
      "cell_type": "code",
      "source": [
        "# 공백을 기준으로 split\n",
        "re.split('\\s+', text)  "
      ],
      "metadata": {
        "colab": {
          "base_uri": "https://localhost:8080/"
        },
        "id": "n4XCBVJqG7eq",
        "outputId": "e27aec9f-e883-43fe-ad27-047730bff4eb"
      },
      "execution_count": null,
      "outputs": [
        {
          "output_type": "execute_result",
          "data": {
            "text/plain": [
              "['100', 'John', 'PROF', '101', 'James', 'STUD', '102', 'Mac', 'STUD']"
            ]
          },
          "metadata": {},
          "execution_count": 59
        }
      ]
    },
    {
      "cell_type": "code",
      "source": [
        "re.findall('\\d+',text)"
      ],
      "metadata": {
        "colab": {
          "base_uri": "https://localhost:8080/"
        },
        "id": "U4GiQrzMHCE8",
        "outputId": "ed132b5e-2aba-4790-8b47-657c09e9aa42"
      },
      "execution_count": null,
      "outputs": [
        {
          "output_type": "execute_result",
          "data": {
            "text/plain": [
              "['100', '101', '102']"
            ]
          },
          "metadata": {},
          "execution_count": 61
        }
      ]
    },
    {
      "cell_type": "code",
      "source": [
        "re.findall('[A-Z]', text)"
      ],
      "metadata": {
        "colab": {
          "base_uri": "https://localhost:8080/"
        },
        "id": "vpICl3riHLBS",
        "outputId": "ea99c645-634a-4b78-ac51-af9324a80c5a"
      },
      "execution_count": null,
      "outputs": [
        {
          "output_type": "execute_result",
          "data": {
            "text/plain": [
              "['J', 'P', 'R', 'O', 'F', 'J', 'S', 'T', 'U', 'D', 'M', 'S', 'T', 'U', 'D']"
            ]
          },
          "metadata": {},
          "execution_count": 62
        }
      ]
    },
    {
      "cell_type": "code",
      "source": [
        "re.findall('[A-Z]{4}',text)"
      ],
      "metadata": {
        "colab": {
          "base_uri": "https://localhost:8080/"
        },
        "id": "xVhi4rD8HRkp",
        "outputId": "bd37494f-d420-427d-ae01-acf1b2e454e8"
      },
      "execution_count": null,
      "outputs": [
        {
          "output_type": "execute_result",
          "data": {
            "text/plain": [
              "['PROF', 'STUD', 'STUD']"
            ]
          },
          "metadata": {},
          "execution_count": 63
        }
      ]
    },
    {
      "cell_type": "code",
      "source": [
        "re.findall('[A-Z][a-z]+', text)"
      ],
      "metadata": {
        "colab": {
          "base_uri": "https://localhost:8080/"
        },
        "id": "2G5Kgno-HVIZ",
        "outputId": "468ee2b9-ee53-4814-d423-e2bb3f9bc89e"
      },
      "execution_count": null,
      "outputs": [
        {
          "output_type": "execute_result",
          "data": {
            "text/plain": [
              "['John', 'James', 'Mac']"
            ]
          },
          "metadata": {},
          "execution_count": 64
        }
      ]
    },
    {
      "cell_type": "markdown",
      "source": [
        "# 정규 표현식을 이용한 토큰화"
      ],
      "metadata": {
        "id": "u5CJ061eHcAm"
      }
    },
    {
      "cell_type": "code",
      "source": [
        "from nltk.tokenize import RegexpTokenizer\n",
        "\n",
        "text = \"Don't be fooled by the dark sounding name, Mr. Jone's Orphanage is as cheery as cheery goes for a pastry shop\"\n",
        "\n",
        "tokenizer1 = RegexpTokenizer('[\\w]+')\n",
        "tokenizer2 = RegexpTokenizer('\\s+', gaps=True) # gaps=True => 해당 정규 표현식을 토큰으로 나누는 기준으로 사용\n",
        "\n",
        "print(tokenizer1.tokenize(text))\n",
        "print(tokenizer2.tokenize(text))"
      ],
      "metadata": {
        "colab": {
          "base_uri": "https://localhost:8080/"
        },
        "id": "rjIwHncsHaXB",
        "outputId": "0dd3d349-6ffe-4dee-ab47-226fa88d87cf"
      },
      "execution_count": null,
      "outputs": [
        {
          "output_type": "stream",
          "name": "stdout",
          "text": [
            "['Don', 't', 'be', 'fooled', 'by', 'the', 'dark', 'sounding', 'name', 'Mr', 'Jone', 's', 'Orphanage', 'is', 'as', 'cheery', 'as', 'cheery', 'goes', 'for', 'a', 'pastry', 'shop']\n",
            "[\"Don't\", 'be', 'fooled', 'by', 'the', 'dark', 'sounding', 'name,', 'Mr.', \"Jone's\", 'Orphanage', 'is', 'as', 'cheery', 'as', 'cheery', 'goes', 'for', 'a', 'pastry', 'shop']\n"
          ]
        }
      ]
    }
  ]
} 
