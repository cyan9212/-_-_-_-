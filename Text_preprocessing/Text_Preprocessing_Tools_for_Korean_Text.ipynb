{
  "nbformat": 4,
  "nbformat_minor": 0,
  "metadata": {
    "colab": {
      "name": "Text Preprocessing Tools for Korean Text.ipynb",
      "provenance": []
    },
    "kernelspec": {
      "name": "python3",
      "display_name": "Python 3"
    },
    "language_info": {
      "name": "python"
    }
  },
  "cells": [
    {
      "cell_type": "markdown",
      "source": [
        "# 한국어 전처리 패키지(Text Preprocessing Tools for Korean Text)"
      ],
      "metadata": {
        "id": "VTXGAIPGbP-a"
      }
    },
    {
      "cell_type": "markdown",
      "source": [
        "## 1. PyKoSpacing\n",
        "- 띄어쓰기가 되어있지 않은 문장을 띄어쓰기를 한 문장으로 변환해주는 패키지"
      ],
      "metadata": {
        "id": "qTy9hju5bSb-"
      }
    },
    {
      "cell_type": "code",
      "source": [
        "sent = '김철수는 극중 두 인격의 사나이 이광수 역을 맡았다. 철수는 한국 유일의 태권도 전승자를 가리는 결전의 날을 앞두고 10년간 함께 훈련한 사형인 유연재(김광수 분)를 찾으러 속세로 내려온 인물이다.'"
      ],
      "metadata": {
        "id": "h4h5-Js3n3oV"
      },
      "execution_count": 1,
      "outputs": []
    },
    {
      "cell_type": "code",
      "source": [
        "new_sent = sent.replace(' ','')\n",
        "new_sent"
      ],
      "metadata": {
        "colab": {
          "base_uri": "https://localhost:8080/",
          "height": 35
        },
        "id": "3j2FWoAdob88",
        "outputId": "5a5543d5-c56c-4fb2-af93-706085412fd6"
      },
      "execution_count": 2,
      "outputs": [
        {
          "output_type": "execute_result",
          "data": {
            "application/vnd.google.colaboratory.intrinsic+json": {
              "type": "string"
            },
            "text/plain": [
              "'김철수는극중두인격의사나이이광수역을맡았다.철수는한국유일의태권도전승자를가리는결전의날을앞두고10년간함께훈련한사형인유연재(김광수분)를찾으러속세로내려온인물이다.'"
            ]
          },
          "metadata": {},
          "execution_count": 2
        }
      ]
    },
    {
      "cell_type": "code",
      "source": [
        "from pykospacing import Spacing\n",
        "\n",
        "spacing= Spacing()\n",
        "kospacing_sent = spacing(new_sent)\n",
        "\n",
        "print(sent)\n",
        "print(kospacing_sent)"
      ],
      "metadata": {
        "colab": {
          "base_uri": "https://localhost:8080/"
        },
        "id": "nVAuJKLIohNs",
        "outputId": "38186827-2a1a-44dc-c45a-3f1770abe0f2"
      },
      "execution_count": 3,
      "outputs": [
        {
          "output_type": "stream",
          "name": "stdout",
          "text": [
            "김철수는 극중 두 인격의 사나이 이광수 역을 맡았다. 철수는 한국 유일의 태권도 전승자를 가리는 결전의 날을 앞두고 10년간 함께 훈련한 사형인 유연재(김광수 분)를 찾으러 속세로 내려온 인물이다.\n",
            "김철수는 극중 두 인격의 사나이 이광수 역을 맡았다. 철수는 한국 유일의 태권도 전승자를 가리는 결전의 날을 앞두고 10년간 함께 훈련한 사형인 유연재(김광수 분)를 찾으러 속세로 내려온 인물이다.\n"
          ]
        }
      ]
    },
    {
      "cell_type": "markdown",
      "source": [
        "## 2. Py-Hanspell\n",
        "- Py-Hanspell은 네이버 한글 맞춤법 검사기를 바탕으로 만들어진 패키지"
      ],
      "metadata": {
        "id": "oeHbgYhVo5Ni"
      }
    },
    {
      "cell_type": "code",
      "source": [
        "!pip install git+https://github.com/ssut/py-hanspell.git"
      ],
      "metadata": {
        "colab": {
          "base_uri": "https://localhost:8080/"
        },
        "id": "XaOTGnCvovcU",
        "outputId": "7f1a7651-3250-46b1-bb54-9258b876f3cf"
      },
      "execution_count": 4,
      "outputs": [
        {
          "output_type": "stream",
          "name": "stdout",
          "text": [
            "Collecting git+https://github.com/ssut/py-hanspell.git\n",
            "  Cloning https://github.com/ssut/py-hanspell.git to /tmp/pip-req-build-998lh1o0\n",
            "  Running command git clone -q https://github.com/ssut/py-hanspell.git /tmp/pip-req-build-998lh1o0\n",
            "Requirement already satisfied: requests in /usr/local/lib/python3.7/dist-packages (from py-hanspell==1.1) (2.23.0)\n",
            "Requirement already satisfied: urllib3!=1.25.0,!=1.25.1,<1.26,>=1.21.1 in /usr/local/lib/python3.7/dist-packages (from requests->py-hanspell==1.1) (1.24.3)\n",
            "Requirement already satisfied: certifi>=2017.4.17 in /usr/local/lib/python3.7/dist-packages (from requests->py-hanspell==1.1) (2021.10.8)\n",
            "Requirement already satisfied: idna<3,>=2.5 in /usr/local/lib/python3.7/dist-packages (from requests->py-hanspell==1.1) (2.10)\n",
            "Requirement already satisfied: chardet<4,>=3.0.2 in /usr/local/lib/python3.7/dist-packages (from requests->py-hanspell==1.1) (3.0.4)\n",
            "Building wheels for collected packages: py-hanspell\n",
            "  Building wheel for py-hanspell (setup.py) ... \u001b[?25l\u001b[?25hdone\n",
            "  Created wheel for py-hanspell: filename=py_hanspell-1.1-py3-none-any.whl size=4868 sha256=a0c4141b56f76212b5bf0f6f3344a278a24d3a8a39ca7d4662104b0bdda9f1c8\n",
            "  Stored in directory: /tmp/pip-ephem-wheel-cache-e7qm57y7/wheels/ab/f5/7b/d4124bb329c905301baed80e2ae45aa14e824f62ebc3ec2cc4\n",
            "Successfully built py-hanspell\n",
            "Installing collected packages: py-hanspell\n",
            "Successfully installed py-hanspell-1.1\n"
          ]
        }
      ]
    },
    {
      "cell_type": "code",
      "source": [
        "from hanspell import spell_checker\n",
        "\n",
        "sent = \"맞춤법 틀리면 외 않되? 쓰고싶은대로쓰면돼지 \"\n",
        "spelled_sent = spell_checker.check(sent)\n",
        "\n",
        "hanspell_sent = spelled_sent.checked\n",
        "hanspell_sent"
      ],
      "metadata": {
        "colab": {
          "base_uri": "https://localhost:8080/",
          "height": 35
        },
        "id": "hnN411W4pDs8",
        "outputId": "98b73f45-38b8-4ae4-d2bc-740a9333ee58"
      },
      "execution_count": 5,
      "outputs": [
        {
          "output_type": "execute_result",
          "data": {
            "application/vnd.google.colaboratory.intrinsic+json": {
              "type": "string"
            },
            "text/plain": [
              "'맞춤법 틀리면 왜 안돼? 쓰고 싶은 대로 쓰면 되지'"
            ]
          },
          "metadata": {},
          "execution_count": 5
        }
      ]
    },
    {
      "cell_type": "markdown",
      "source": [
        "이 패키지는 띄어쓰기 또한 보정한다."
      ],
      "metadata": {
        "id": "p44ZhSFTpxn6"
      }
    },
    {
      "cell_type": "code",
      "source": [
        "spelled_sent = spell_checker.check(new_sent)\n",
        "\n",
        "hanspell_sent = spelled_sent.checked\n",
        "\n",
        "print(hanspell_sent)\n",
        "print(kospacing_sent) # 앞서 사용한 kospacing 패키지에서 얻은 결과"
      ],
      "metadata": {
        "colab": {
          "base_uri": "https://localhost:8080/"
        },
        "id": "_wREiqHMpmNd",
        "outputId": "ad64f306-ef4f-4308-cf25-fcafd95f3b40"
      },
      "execution_count": 6,
      "outputs": [
        {
          "output_type": "stream",
          "name": "stdout",
          "text": [
            "김철수는 극 중 두 인격의 사나이 이광수 역을 맡았다. 철수는 한국 유일의 태권도 전승자를 가리는 결전의 날을 앞두고 10년간 함께 훈련한 사형인 유연제(김광수 분)를 찾으러 속세로 내려온 인물이다.\n",
            "김철수는 극중 두 인격의 사나이 이광수 역을 맡았다. 철수는 한국 유일의 태권도 전승자를 가리는 결전의 날을 앞두고 10년간 함께 훈련한 사형인 유연재(김광수 분)를 찾으러 속세로 내려온 인물이다.\n"
          ]
        }
      ]
    },
    {
      "cell_type": "markdown",
      "source": [
        "## 3. SOYNLP를 이용한 단어 토큰화\n",
        "- **`soynlp`**는 품사 태깅, 단어 토큰화 등을 지원하는 단어 토크나이저\n",
        "- **`비지도 학습`**으로 단어 토큰화를 한다는 특징을 갖고 있으며, 데이터에 자주 등장하는 단어들을 단어로 분석\n",
        "- **`soynlp`** 단어 토크나이저는 내부적으로 단어 점수 표로 동작하며 이 점수는 응집 확률(cohesion probability)과 브랜칭 엔트로피(branching entropy)를 활용"
      ],
      "metadata": {
        "id": "hoNFRe5UqNWp"
      }
    },
    {
      "cell_type": "code",
      "source": [
        "!pip install soynlp"
      ],
      "metadata": {
        "colab": {
          "base_uri": "https://localhost:8080/"
        },
        "id": "U8G-4Ggep-xC",
        "outputId": "18a851bb-eb37-4219-eef0-179cebe21791"
      },
      "execution_count": 7,
      "outputs": [
        {
          "output_type": "stream",
          "name": "stdout",
          "text": [
            "Collecting soynlp\n",
            "  Downloading soynlp-0.0.493-py3-none-any.whl (416 kB)\n",
            "\u001b[K     |████████████████████████████████| 416 kB 5.8 MB/s \n",
            "\u001b[?25hRequirement already satisfied: numpy>=1.12.1 in /usr/local/lib/python3.7/dist-packages (from soynlp) (1.19.5)\n",
            "Requirement already satisfied: scipy>=1.1.0 in /usr/local/lib/python3.7/dist-packages (from soynlp) (1.4.1)\n",
            "Requirement already satisfied: scikit-learn>=0.20.0 in /usr/local/lib/python3.7/dist-packages (from soynlp) (1.0.2)\n",
            "Requirement already satisfied: psutil>=5.0.1 in /usr/local/lib/python3.7/dist-packages (from soynlp) (5.4.8)\n",
            "Requirement already satisfied: joblib>=0.11 in /usr/local/lib/python3.7/dist-packages (from scikit-learn>=0.20.0->soynlp) (1.1.0)\n",
            "Requirement already satisfied: threadpoolctl>=2.0.0 in /usr/local/lib/python3.7/dist-packages (from scikit-learn>=0.20.0->soynlp) (3.0.0)\n",
            "Installing collected packages: soynlp\n",
            "Successfully installed soynlp-0.0.493\n"
          ]
        }
      ]
    },
    {
      "cell_type": "markdown",
      "source": [
        "### 1. 신조어 문제\n",
        "- 기존의 형태소 분석기는 신조어나 형태소 분석기에 등록되지 않은 단어 같은 경우에는 제대로 구분하지 못하는 단점이 존재"
      ],
      "metadata": {
        "id": "zssaHTz3q326"
      }
    },
    {
      "cell_type": "code",
      "source": [
        "!pip install konlpy"
      ],
      "metadata": {
        "colab": {
          "base_uri": "https://localhost:8080/"
        },
        "id": "WViKyiX2qqgD",
        "outputId": "deb53560-3564-4242-a3cb-5394f6f5537e"
      },
      "execution_count": 8,
      "outputs": [
        {
          "output_type": "stream",
          "name": "stdout",
          "text": [
            "Collecting konlpy\n",
            "  Downloading konlpy-0.6.0-py2.py3-none-any.whl (19.4 MB)\n",
            "\u001b[K     |████████████████████████████████| 19.4 MB 5.8 MB/s \n",
            "\u001b[?25hCollecting JPype1>=0.7.0\n",
            "  Downloading JPype1-1.3.0-cp37-cp37m-manylinux_2_5_x86_64.manylinux1_x86_64.whl (448 kB)\n",
            "\u001b[K     |████████████████████████████████| 448 kB 54.7 MB/s \n",
            "\u001b[?25hRequirement already satisfied: numpy>=1.6 in /usr/local/lib/python3.7/dist-packages (from konlpy) (1.19.5)\n",
            "Requirement already satisfied: lxml>=4.1.0 in /usr/local/lib/python3.7/dist-packages (from konlpy) (4.2.6)\n",
            "Requirement already satisfied: typing-extensions in /usr/local/lib/python3.7/dist-packages (from JPype1>=0.7.0->konlpy) (3.7.4.3)\n",
            "Installing collected packages: JPype1, konlpy\n",
            "Successfully installed JPype1-1.3.0 konlpy-0.6.0\n"
          ]
        }
      ]
    },
    {
      "cell_type": "code",
      "source": [
        "from konlpy.tag import Okt\n",
        "\n",
        "tokenizer = Okt()\n",
        "print(tokenizer.morphs('에이비식스 이대휘 1월 최애돌 기부 요정'))"
      ],
      "metadata": {
        "colab": {
          "base_uri": "https://localhost:8080/"
        },
        "id": "e1jo9SOmrCt7",
        "outputId": "bc135d85-496b-4351-dfbf-488cca697a05"
      },
      "execution_count": 9,
      "outputs": [
        {
          "output_type": "stream",
          "name": "stdout",
          "text": [
            "['에이', '비식스', '이대', '휘', '1월', '최애', '돌', '기부', '요정']\n"
          ]
        }
      ]
    },
    {
      "cell_type": "markdown",
      "source": [
        "### 2. 학습하기\n",
        "- soynlp는 기본적으로 학습에 기반한 토크나이저이므로 학습에 필요한 한국어 문서를 다운로드"
      ],
      "metadata": {
        "id": "cMQk0mmPrS5v"
      }
    },
    {
      "cell_type": "code",
      "source": [
        "import urllib.request\n",
        "from soynlp import DoublespaceLineCorpus\n",
        "from soynlp.word import WordExtractor"
      ],
      "metadata": {
        "id": "YXLehrZYrNeS"
      },
      "execution_count": 10,
      "outputs": []
    },
    {
      "cell_type": "code",
      "source": [
        "urllib.request.urlretrieve(\"https://raw.githubusercontent.com/lovit/soynlp/master/tutorials/2016-10-20.txt\", filename=\"2016-10-20.txt\")"
      ],
      "metadata": {
        "colab": {
          "base_uri": "https://localhost:8080/"
        },
        "id": "kk9VmxAqrm2M",
        "outputId": "371150fe-2123-489b-efdf-8044d7307333"
      },
      "execution_count": 11,
      "outputs": [
        {
          "output_type": "execute_result",
          "data": {
            "text/plain": [
              "('2016-10-20.txt', <http.client.HTTPMessage at 0x7ff1c07e1750>)"
            ]
          },
          "metadata": {},
          "execution_count": 11
        }
      ]
    },
    {
      "cell_type": "code",
      "source": [
        "# 훈련 데이터를 다수의 문서로 분리\n",
        "corpus = DoublespaceLineCorpus('2016-10-20.txt')\n",
        "len(corpus)"
      ],
      "metadata": {
        "colab": {
          "base_uri": "https://localhost:8080/"
        },
        "id": "7VLytU93sA-y",
        "outputId": "7dbdb187-43d6-46f8-a76d-0c0b859d5f5c"
      },
      "execution_count": 12,
      "outputs": [
        {
          "output_type": "execute_result",
          "data": {
            "text/plain": [
              "30091"
            ]
          },
          "metadata": {},
          "execution_count": 12
        }
      ]
    },
    {
      "cell_type": "markdown",
      "source": [
        "총 3만 91개의 문서가 존재"
      ],
      "metadata": {
        "id": "uCJyi_tosNfb"
      }
    },
    {
      "cell_type": "code",
      "source": [
        "i = 0\n",
        "for document in corpus:\n",
        "  if len(document) > 0:\n",
        "    print(document+'\\n')\n",
        "    i+=1\n",
        "  if i == 3: break"
      ],
      "metadata": {
        "colab": {
          "base_uri": "https://localhost:8080/"
        },
        "id": "39M5PQtSsJBi",
        "outputId": "139d1768-8d5f-4cf9-b5da-d12e304f3cc9"
      },
      "execution_count": 13,
      "outputs": [
        {
          "output_type": "stream",
          "name": "stdout",
          "text": [
            "19  1990  52 1 22\n",
            "\n",
            "오패산터널 총격전 용의자 검거 서울 연합뉴스 경찰 관계자들이 19일 오후 서울 강북구 오패산 터널 인근에서 사제 총기를 발사해 경찰을 살해한 용의자 성모씨를 검거하고 있다 성씨는 검거 당시 서바이벌 게임에서 쓰는 방탄조끼에 헬멧까지 착용한 상태였다 독자제공 영상 캡처 연합뉴스  서울 연합뉴스 김은경 기자 사제 총기로 경찰을 살해한 범인 성모 46 씨는 주도면밀했다  경찰에 따르면 성씨는 19일 오후 강북경찰서 인근 부동산 업소 밖에서 부동산업자 이모 67 씨가 나오기를 기다렸다 이씨와는 평소에도 말다툼을 자주 한 것으로 알려졌다  이씨가 나와 걷기 시작하자 성씨는 따라가면서 미리 준비해온 사제 총기를 이씨에게 발사했다 총알이 빗나가면서 이씨는 도망갔다 그 빗나간 총알은 지나가던 행인 71 씨의 배를 스쳤다  성씨는 강북서 인근 치킨집까지 이씨 뒤를 쫓으며 실랑이하다 쓰러뜨린 후 총기와 함께 가져온 망치로 이씨 머리를 때렸다  이 과정에서 오후 6시 20분께 강북구 번동 길 위에서 사람들이 싸우고 있다 총소리가 났다 는 등의 신고가 여러건 들어왔다  5분 후에 성씨의 전자발찌가 훼손됐다는 신고가 보호관찰소 시스템을 통해 들어왔다 성범죄자로 전자발찌를 차고 있던 성씨는 부엌칼로 직접 자신의 발찌를 끊었다  용의자 소지 사제총기 2정 서울 연합뉴스 임헌정 기자 서울 시내에서 폭행 용의자가 현장 조사를 벌이던 경찰관에게 사제총기를 발사해 경찰관이 숨졌다 19일 오후 6시28분 강북구 번동에서 둔기로 맞았다 는 폭행 피해 신고가 접수돼 현장에서 조사하던 강북경찰서 번동파출소 소속 김모 54 경위가 폭행 용의자 성모 45 씨가 쏜 사제총기에 맞고 쓰러진 뒤 병원에 옮겨졌으나 숨졌다 사진은 용의자가 소지한 사제총기  신고를 받고 번동파출소에서 김창호 54 경위 등 경찰들이 오후 6시 29분께 현장으로 출동했다 성씨는 그사이 부동산 앞에 놓아뒀던 가방을 챙겨 오패산 쪽으로 도망간 후였다  김 경위는 오패산 터널 입구 오른쪽의 급경사에서 성씨에게 접근하다가 오후 6시 33분께 풀숲에 숨은 성씨가 허공에 난사한 10여발의 총알 중 일부를 왼쪽 어깨 뒷부분에 맞고 쓰러졌다  김 경위는 구급차가 도착했을 때 이미 의식이 없었고 심폐소생술을 하며 병원으로 옮겨졌으나 총알이 폐를 훼손해 오후 7시 40분께 사망했다  김 경위는 외근용 조끼를 입고 있었으나 총알을 막기에는 역부족이었다  머리에 부상을 입은 이씨도 함께 병원으로 이송됐으나 생명에는 지장이 없는 것으로 알려졌다  성씨는 오패산 터널 밑쪽 숲에서 오후 6시 45분께 잡혔다  총격현장 수색하는 경찰들 서울 연합뉴스 이효석 기자 19일 오후 서울 강북구 오패산 터널 인근에서 경찰들이 폭행 용의자가 사제총기를 발사해 경찰관이 사망한 사건을 조사 하고 있다  총 때문에 쫓던 경관들과 민간인들이 몸을 숨겼는데 인근 신발가게 직원 이모씨가 다가가 성씨를 덮쳤고 이어 현장에 있던 다른 상인들과 경찰이 가세해 체포했다  성씨는 경찰에 붙잡힌 직후 나 자살하려고 한 거다 맞아 죽어도 괜찮다 고 말한 것으로 전해졌다  성씨 자신도 경찰이 발사한 공포탄 1발 실탄 3발 중 실탄 1발을 배에 맞았으나 방탄조끼를 입은 상태여서 부상하지는 않았다  경찰은 인근을 수색해 성씨가 만든 사제총 16정과 칼 7개를 압수했다 실제 폭발할지는 알 수 없는 요구르트병에 무언가를 채워두고 심지를 꽂은 사제 폭탄도 발견됐다  일부는 숲에서 발견됐고 일부는 성씨가 소지한 가방 안에 있었다\n",
            "\n",
            "테헤란 연합뉴스 강훈상 특파원 이용 승객수 기준 세계 최대 공항인 아랍에미리트 두바이국제공항은 19일 현지시간 이 공항을 이륙하는 모든 항공기의 탑승객은 삼성전자의 갤럭시노트7을 휴대하면 안 된다고 밝혔다  두바이국제공항은 여러 항공 관련 기구의 권고에 따라 안전성에 우려가 있는 스마트폰 갤럭시노트7을 휴대하고 비행기를 타면 안 된다 며 탑승 전 검색 중 발견되면 압수할 계획 이라고 발표했다  공항 측은 갤럭시노트7의 배터리가 폭발 우려가 제기된 만큼 이 제품을 갖고 공항 안으로 들어오지 말라고 이용객에 당부했다  이런 조치는 두바이국제공항 뿐 아니라 신공항인 두바이월드센터에도 적용된다  배터리 폭발문제로 회수된 갤럭시노트7 연합뉴스자료사진\n",
            "\n"
          ]
        }
      ]
    },
    {
      "cell_type": "markdown",
      "source": [
        " soynlp는 학습 기반의 단어 토크나이저이므로 기존의 KoNLPy에서 제공하는 형태소 분석기들과는 달리 학습 과정을 거쳐야 한다.\n",
        " \n",
        "이는 전체 코퍼스로부터 응집 확률과 브랜칭 엔트로피 단어 점수표를 만드는 과정이며 WordExtractor.extract()를 통해서 전체 코퍼스에 대해 단어 점수표를 계산한다."
      ],
      "metadata": {
        "id": "4tHMdIP1skA_"
      }
    },
    {
      "cell_type": "code",
      "source": [
        "word_extractor = WordExtractor()\n",
        "word_extractor.train(corpus)\n",
        "word_score_table = word_extractor.extract()"
      ],
      "metadata": {
        "colab": {
          "base_uri": "https://localhost:8080/"
        },
        "id": "YAmkmkM0sXaK",
        "outputId": "6fd3ca8a-fe9b-4ee6-9994-4f69b7d5751a"
      },
      "execution_count": 14,
      "outputs": [
        {
          "output_type": "stream",
          "name": "stdout",
          "text": [
            "training was done. used memory 1.724 Gb\n",
            "all cohesion probabilities was computed. # words = 223348\n",
            "all branching entropies was computed # words = 361598\n",
            "all accessor variety was computed # words = 361598\n"
          ]
        }
      ]
    },
    {
      "cell_type": "markdown",
      "source": [
        "### 3. SOYNLP의 응집 확률(cohesion probability)\n",
        "- 응집 확률은 내부 문자열(substring)이 얼마나 응집하여 자주 등장하는지를 판단하는 척도\n",
        "- 응집 확률은 문자열을 문자 단위로 분리하여 내부 문자열을 만드는 과정에서 왼쪽부터 순서대로 문자를 추가하면서 각 문자열이 주어졌을 때 그 다음 문자가 나올 확률을 계산하여 누적곱을 한 값\n",
        "- 이 값이 높을수록 전체 코퍼스에서 이 문자열 시퀀스는 하나의 단어로 등장할 가능성이 높다."
      ],
      "metadata": {
        "id": "TcqgpFiDtJWI"
      }
    },
    {
      "cell_type": "code",
      "source": [
        "word_score_table['반포한'].cohesion_forward"
      ],
      "metadata": {
        "colab": {
          "base_uri": "https://localhost:8080/"
        },
        "id": "yVqKofMfs7uT",
        "outputId": "911a8805-ebdd-460a-b079-960220113d60"
      },
      "execution_count": 15,
      "outputs": [
        {
          "output_type": "execute_result",
          "data": {
            "text/plain": [
              "0.08838002913645132"
            ]
          },
          "metadata": {},
          "execution_count": 15
        }
      ]
    },
    {
      "cell_type": "code",
      "source": [
        "word_score_table[\"반포한강\"].cohesion_forward"
      ],
      "metadata": {
        "colab": {
          "base_uri": "https://localhost:8080/"
        },
        "id": "-TqDQGiut8iz",
        "outputId": "00de9ef3-3d66-43d2-f269-e28118a6abab"
      },
      "execution_count": 16,
      "outputs": [
        {
          "output_type": "execute_result",
          "data": {
            "text/plain": [
              "0.19841268168224552"
            ]
          },
          "metadata": {},
          "execution_count": 16
        }
      ]
    },
    {
      "cell_type": "code",
      "source": [
        "word_score_table[\"반포한강공\"].cohesion_forward"
      ],
      "metadata": {
        "colab": {
          "base_uri": "https://localhost:8080/"
        },
        "id": "XZja7Luft-3Z",
        "outputId": "40967659-1d8c-4375-a9f9-409253e10189"
      },
      "execution_count": 17,
      "outputs": [
        {
          "output_type": "execute_result",
          "data": {
            "text/plain": [
              "0.2972877884078849"
            ]
          },
          "metadata": {},
          "execution_count": 17
        }
      ]
    },
    {
      "cell_type": "code",
      "source": [
        "word_score_table[\"반포한강공원\"].cohesion_forward"
      ],
      "metadata": {
        "colab": {
          "base_uri": "https://localhost:8080/"
        },
        "id": "dn0Arx7buAd5",
        "outputId": "32c1d105-ead5-4f74-dc79-5491517d47b1"
      },
      "execution_count": 18,
      "outputs": [
        {
          "output_type": "execute_result",
          "data": {
            "text/plain": [
              "0.37891487632839754"
            ]
          },
          "metadata": {},
          "execution_count": 18
        }
      ]
    },
    {
      "cell_type": "code",
      "source": [
        "word_score_table[\"반포한강공원에\"].cohesion_forward"
      ],
      "metadata": {
        "colab": {
          "base_uri": "https://localhost:8080/"
        },
        "id": "N4sTH6dquB85",
        "outputId": "0de0721f-6549-4db6-930a-337114b49984"
      },
      "execution_count": 19,
      "outputs": [
        {
          "output_type": "execute_result",
          "data": {
            "text/plain": [
              "0.33492963377557666"
            ]
          },
          "metadata": {},
          "execution_count": 19
        }
      ]
    },
    {
      "cell_type": "markdown",
      "source": [
        "오히려 `'반포한강공원'`보다 응집도가 낮아진다.\n",
        "\n",
        "결국 결합도는 `'반포한강공원'`일 때가 가장 높았으며\n",
        "\n",
        " 응집도를 통해 판단하기에 하나의 단어로 판단하기에 가장 적합한 문자열은 `'반포한강공원'`이라고 볼 수 있다."
      ],
      "metadata": {
        "id": "HXk_BaCOuFW8"
      }
    },
    {
      "cell_type": "markdown",
      "source": [
        "### 4. SOYNLP의 브랜칭 엔트로피(branching entropy)\n",
        "- Branching Entropy는 확률 분포의 엔트로피값을 사용\n",
        "- 주어진 문자열에서 얼마나 다음 문자가 등장할 수 있는지를 판단하는 척도입니다."
      ],
      "metadata": {
        "id": "Njb0sjqVuRj3"
      }
    },
    {
      "cell_type": "code",
      "source": [
        "word_score_table['디스'].right_branching_entropy"
      ],
      "metadata": {
        "id": "mnnEatHxuDjb",
        "colab": {
          "base_uri": "https://localhost:8080/"
        },
        "outputId": "4de81eee-0edf-464a-9987-7d6688e3a164"
      },
      "execution_count": 20,
      "outputs": [
        {
          "output_type": "execute_result",
          "data": {
            "text/plain": [
              "1.6371694761537934"
            ]
          },
          "metadata": {},
          "execution_count": 20
        }
      ]
    },
    {
      "cell_type": "code",
      "source": [
        "word_score_table['디스플'].right_branching_entropy"
      ],
      "metadata": {
        "colab": {
          "base_uri": "https://localhost:8080/"
        },
        "id": "RHwYjq2AZlr4",
        "outputId": "8bb29317-d815-46a8-bb53-bbb3287ee20e"
      },
      "execution_count": 21,
      "outputs": [
        {
          "output_type": "execute_result",
          "data": {
            "text/plain": [
              "-0.0"
            ]
          },
          "metadata": {},
          "execution_count": 21
        }
      ]
    },
    {
      "cell_type": "code",
      "source": [
        "word_score_table['디스플레이'].right_branching_entropy"
      ],
      "metadata": {
        "colab": {
          "base_uri": "https://localhost:8080/"
        },
        "id": "OWeFyVF7aERX",
        "outputId": "5dc874c3-935b-4c7f-bf0d-068e92586011"
      },
      "execution_count": 22,
      "outputs": [
        {
          "output_type": "execute_result",
          "data": {
            "text/plain": [
              "3.1400392861792916"
            ]
          },
          "metadata": {},
          "execution_count": 22
        }
      ]
    },
    {
      "cell_type": "markdown",
      "source": [
        "### 5. SOYNLP의 L tokenizer\n",
        "- 한국어는 띄어쓰기 단위로 나눈 어절 토큰은 주로 L 토큰 + R 토큰의 형식을 가질 때가 많다. \n",
        "- ex)'공원에' => '공원 + 에' / '공부하는' => '공부 + 하는'\n",
        "-  L 토크나이저는 L 토큰 + R 토큰으로 나누되, 분리 기준을 점수가 가장 높은 L 토큰을 찾아내는 원리를 가지고 있다."
      ],
      "metadata": {
        "id": "DYsDOGOTawde"
      }
    },
    {
      "cell_type": "code",
      "source": [
        "from soynlp.tokenizer import LTokenizer\n",
        "\n",
        "scores = {word: score.cohesion_forward for word, score in word_score_table.items()}\n",
        "l_tokenizer = LTokenizer(scores=scores)\n",
        "l_tokenizer.tokenize(\"국제사회와 우리의 노력들로 범죄를 척결하자\", flatten=False)"
      ],
      "metadata": {
        "colab": {
          "base_uri": "https://localhost:8080/"
        },
        "id": "o5MOndwdapI4",
        "outputId": "f08ba829-81a4-4e6f-a050-07c490ca784c"
      },
      "execution_count": 36,
      "outputs": [
        {
          "output_type": "execute_result",
          "data": {
            "text/plain": [
              "[('국제사회', '와'), ('우리', '의'), ('노력', '들로'), ('범죄', '를'), ('척결', '하자')]"
            ]
          },
          "metadata": {},
          "execution_count": 36
        }
      ]
    },
    {
      "cell_type": "markdown",
      "source": [
        "### 6. 최대 점수 토크나이저\n",
        "- 최대 점수 토크나이저는 띄어쓰기가 되지 않는 문장에서 점수가 높은 글자 시퀀스를 순차적으로 찾아내는 토크나이저"
      ],
      "metadata": {
        "id": "TV2c-tsPhd3F"
      }
    },
    {
      "cell_type": "code",
      "source": [
        "from soynlp.tokenizer import MaxScoreTokenizer\n",
        "\n",
        "maxscore_tokenizer = MaxScoreTokenizer(scores=scores)\n",
        "maxscore_tokenizer.tokenize(\"국제사회와우리의노력들로범죄를척결하자\")"
      ],
      "metadata": {
        "colab": {
          "base_uri": "https://localhost:8080/"
        },
        "id": "kupFSqx8hA_t",
        "outputId": "5296a96f-e193-429d-8841-762f25d9fe14"
      },
      "execution_count": 37,
      "outputs": [
        {
          "output_type": "execute_result",
          "data": {
            "text/plain": [
              "['국제사회', '와', '우리', '의', '노력', '들로', '범죄', '를', '척결', '하자']"
            ]
          },
          "metadata": {},
          "execution_count": 37
        }
      ]
    },
    {
      "cell_type": "markdown",
      "source": [
        "## 4. SOYNLP를 이용한 반복되는 문자 정제\n",
        "- SNS나 채팅 데이터와 같은 한국어 데이터의 경우에는 ㅋㅋ, ㅎㅎ 등의 이모티콘의 경우 불필요하게 연속되는 경우가 많은데 ㅋㅋ, ㅋㅋㅋ, ㅋㅋㅋㅋ와 같은 경우를 모두 서로 다른 단어로 처리하는 것은 불필요합니다. 이에 반복되는 것은 하나로 정규화시켜줍니다."
      ],
      "metadata": {
        "id": "zVkuy8hEiUwz"
      }
    },
    {
      "cell_type": "code",
      "source": [
        "from soynlp.normalizer import *"
      ],
      "metadata": {
        "id": "hfPPZDX2iIXM"
      },
      "execution_count": 38,
      "outputs": []
    },
    {
      "cell_type": "code",
      "source": [
        "print(emoticon_normalize('앜ㅋㅋㅋㅋ이영화존잼쓰ㅠㅠㅠㅠㅠ', num_repeats=2))\n",
        "print(emoticon_normalize('앜ㅋㅋㅋㅋㅋㅋㅋㅋㅋ이영화존잼쓰ㅠㅠㅠㅠ', num_repeats=2))\n",
        "print(emoticon_normalize('앜ㅋㅋㅋㅋㅋㅋㅋㅋㅋㅋㅋㅋ이영화존잼쓰ㅠㅠㅠㅠㅠㅠ', num_repeats=2))\n",
        "print(emoticon_normalize('앜ㅋㅋㅋㅋㅋㅋㅋㅋㅋㅋㅋㅋㅋㅋㅋㅋㅋ이영화존잼쓰ㅠㅠㅠㅠㅠㅠㅠㅠ', num_repeats=2))"
      ],
      "metadata": {
        "colab": {
          "base_uri": "https://localhost:8080/"
        },
        "id": "W-pVzluHikf0",
        "outputId": "6257a674-d77c-48a2-d50d-d493557f92a0"
      },
      "execution_count": 41,
      "outputs": [
        {
          "output_type": "stream",
          "name": "stdout",
          "text": [
            "아ㅋㅋ영화존잼쓰ㅠㅠ\n",
            "아ㅋㅋ영화존잼쓰ㅠㅠ\n",
            "아ㅋㅋ영화존잼쓰ㅠㅠ\n",
            "아ㅋㅋ영화존잼쓰ㅠㅠ\n"
          ]
        }
      ]
    },
    {
      "cell_type": "markdown",
      "source": [
        "의미없게 반복되는 것은 비단 이모티콘에 한정되지 않는다."
      ],
      "metadata": {
        "id": "aYZ36_VOqQUZ"
      }
    },
    {
      "cell_type": "code",
      "source": [
        "print(repeat_normalize('와하하하하하하하하하핫', num_repeats=2))\n",
        "print(repeat_normalize('와하하하하하하핫', num_repeats=2))\n",
        "print(repeat_normalize('와하하하하핫', num_repeats=2))"
      ],
      "metadata": {
        "colab": {
          "base_uri": "https://localhost:8080/"
        },
        "id": "pPvNHS6RqIYy",
        "outputId": "ac965526-0c20-4080-d265-7f0670820657"
      },
      "execution_count": 42,
      "outputs": [
        {
          "output_type": "stream",
          "name": "stdout",
          "text": [
            "와하하핫\n",
            "와하하핫\n",
            "와하하핫\n"
          ]
        }
      ]
    },
    {
      "cell_type": "markdown",
      "source": [
        "## 5. Customized KoNLPy"
      ],
      "metadata": {
        "id": "4dMsHvj-qekS"
      }
    },
    {
      "cell_type": "code",
      "source": [
        "!pip install customized_konlpy"
      ],
      "metadata": {
        "colab": {
          "base_uri": "https://localhost:8080/"
        },
        "id": "8i48IIjoqbNW",
        "outputId": "4024cb32-35a5-46b2-9def-c0fa8fbfa3fa"
      },
      "execution_count": 43,
      "outputs": [
        {
          "output_type": "stream",
          "name": "stdout",
          "text": [
            "Collecting customized_konlpy\n",
            "  Downloading customized_konlpy-0.0.64-py3-none-any.whl (881 kB)\n",
            "\u001b[?25l\r\u001b[K     |▍                               | 10 kB 18.6 MB/s eta 0:00:01\r\u001b[K     |▊                               | 20 kB 23.6 MB/s eta 0:00:01\r\u001b[K     |█▏                              | 30 kB 16.7 MB/s eta 0:00:01\r\u001b[K     |█▌                              | 40 kB 12.2 MB/s eta 0:00:01\r\u001b[K     |█▉                              | 51 kB 9.0 MB/s eta 0:00:01\r\u001b[K     |██▎                             | 61 kB 9.1 MB/s eta 0:00:01\r\u001b[K     |██▋                             | 71 kB 7.5 MB/s eta 0:00:01\r\u001b[K     |███                             | 81 kB 8.3 MB/s eta 0:00:01\r\u001b[K     |███▍                            | 92 kB 7.7 MB/s eta 0:00:01\r\u001b[K     |███▊                            | 102 kB 8.4 MB/s eta 0:00:01\r\u001b[K     |████                            | 112 kB 8.4 MB/s eta 0:00:01\r\u001b[K     |████▌                           | 122 kB 8.4 MB/s eta 0:00:01\r\u001b[K     |████▉                           | 133 kB 8.4 MB/s eta 0:00:01\r\u001b[K     |█████▏                          | 143 kB 8.4 MB/s eta 0:00:01\r\u001b[K     |█████▋                          | 153 kB 8.4 MB/s eta 0:00:01\r\u001b[K     |██████                          | 163 kB 8.4 MB/s eta 0:00:01\r\u001b[K     |██████▎                         | 174 kB 8.4 MB/s eta 0:00:01\r\u001b[K     |██████▊                         | 184 kB 8.4 MB/s eta 0:00:01\r\u001b[K     |███████                         | 194 kB 8.4 MB/s eta 0:00:01\r\u001b[K     |███████▍                        | 204 kB 8.4 MB/s eta 0:00:01\r\u001b[K     |███████▉                        | 215 kB 8.4 MB/s eta 0:00:01\r\u001b[K     |████████▏                       | 225 kB 8.4 MB/s eta 0:00:01\r\u001b[K     |████████▌                       | 235 kB 8.4 MB/s eta 0:00:01\r\u001b[K     |█████████                       | 245 kB 8.4 MB/s eta 0:00:01\r\u001b[K     |█████████▎                      | 256 kB 8.4 MB/s eta 0:00:01\r\u001b[K     |█████████▋                      | 266 kB 8.4 MB/s eta 0:00:01\r\u001b[K     |██████████                      | 276 kB 8.4 MB/s eta 0:00:01\r\u001b[K     |██████████▍                     | 286 kB 8.4 MB/s eta 0:00:01\r\u001b[K     |██████████▉                     | 296 kB 8.4 MB/s eta 0:00:01\r\u001b[K     |███████████▏                    | 307 kB 8.4 MB/s eta 0:00:01\r\u001b[K     |███████████▌                    | 317 kB 8.4 MB/s eta 0:00:01\r\u001b[K     |████████████                    | 327 kB 8.4 MB/s eta 0:00:01\r\u001b[K     |████████████▎                   | 337 kB 8.4 MB/s eta 0:00:01\r\u001b[K     |████████████▋                   | 348 kB 8.4 MB/s eta 0:00:01\r\u001b[K     |█████████████                   | 358 kB 8.4 MB/s eta 0:00:01\r\u001b[K     |█████████████▍                  | 368 kB 8.4 MB/s eta 0:00:01\r\u001b[K     |█████████████▊                  | 378 kB 8.4 MB/s eta 0:00:01\r\u001b[K     |██████████████▏                 | 389 kB 8.4 MB/s eta 0:00:01\r\u001b[K     |██████████████▌                 | 399 kB 8.4 MB/s eta 0:00:01\r\u001b[K     |██████████████▉                 | 409 kB 8.4 MB/s eta 0:00:01\r\u001b[K     |███████████████▎                | 419 kB 8.4 MB/s eta 0:00:01\r\u001b[K     |███████████████▋                | 430 kB 8.4 MB/s eta 0:00:01\r\u001b[K     |████████████████                | 440 kB 8.4 MB/s eta 0:00:01\r\u001b[K     |████████████████▍               | 450 kB 8.4 MB/s eta 0:00:01\r\u001b[K     |████████████████▊               | 460 kB 8.4 MB/s eta 0:00:01\r\u001b[K     |█████████████████               | 471 kB 8.4 MB/s eta 0:00:01\r\u001b[K     |█████████████████▌              | 481 kB 8.4 MB/s eta 0:00:01\r\u001b[K     |█████████████████▉              | 491 kB 8.4 MB/s eta 0:00:01\r\u001b[K     |██████████████████▏             | 501 kB 8.4 MB/s eta 0:00:01\r\u001b[K     |██████████████████▋             | 512 kB 8.4 MB/s eta 0:00:01\r\u001b[K     |███████████████████             | 522 kB 8.4 MB/s eta 0:00:01\r\u001b[K     |███████████████████▎            | 532 kB 8.4 MB/s eta 0:00:01\r\u001b[K     |███████████████████▊            | 542 kB 8.4 MB/s eta 0:00:01\r\u001b[K     |████████████████████            | 552 kB 8.4 MB/s eta 0:00:01\r\u001b[K     |████████████████████▌           | 563 kB 8.4 MB/s eta 0:00:01\r\u001b[K     |████████████████████▉           | 573 kB 8.4 MB/s eta 0:00:01\r\u001b[K     |█████████████████████▏          | 583 kB 8.4 MB/s eta 0:00:01\r\u001b[K     |█████████████████████▋          | 593 kB 8.4 MB/s eta 0:00:01\r\u001b[K     |██████████████████████          | 604 kB 8.4 MB/s eta 0:00:01\r\u001b[K     |██████████████████████▎         | 614 kB 8.4 MB/s eta 0:00:01\r\u001b[K     |██████████████████████▊         | 624 kB 8.4 MB/s eta 0:00:01\r\u001b[K     |███████████████████████         | 634 kB 8.4 MB/s eta 0:00:01\r\u001b[K     |███████████████████████▍        | 645 kB 8.4 MB/s eta 0:00:01\r\u001b[K     |███████████████████████▉        | 655 kB 8.4 MB/s eta 0:00:01\r\u001b[K     |████████████████████████▏       | 665 kB 8.4 MB/s eta 0:00:01\r\u001b[K     |████████████████████████▌       | 675 kB 8.4 MB/s eta 0:00:01\r\u001b[K     |█████████████████████████       | 686 kB 8.4 MB/s eta 0:00:01\r\u001b[K     |█████████████████████████▎      | 696 kB 8.4 MB/s eta 0:00:01\r\u001b[K     |█████████████████████████▋      | 706 kB 8.4 MB/s eta 0:00:01\r\u001b[K     |██████████████████████████      | 716 kB 8.4 MB/s eta 0:00:01\r\u001b[K     |██████████████████████████▍     | 727 kB 8.4 MB/s eta 0:00:01\r\u001b[K     |██████████████████████████▊     | 737 kB 8.4 MB/s eta 0:00:01\r\u001b[K     |███████████████████████████▏    | 747 kB 8.4 MB/s eta 0:00:01\r\u001b[K     |███████████████████████████▌    | 757 kB 8.4 MB/s eta 0:00:01\r\u001b[K     |███████████████████████████▉    | 768 kB 8.4 MB/s eta 0:00:01\r\u001b[K     |████████████████████████████▎   | 778 kB 8.4 MB/s eta 0:00:01\r\u001b[K     |████████████████████████████▋   | 788 kB 8.4 MB/s eta 0:00:01\r\u001b[K     |█████████████████████████████   | 798 kB 8.4 MB/s eta 0:00:01\r\u001b[K     |█████████████████████████████▍  | 808 kB 8.4 MB/s eta 0:00:01\r\u001b[K     |█████████████████████████████▊  | 819 kB 8.4 MB/s eta 0:00:01\r\u001b[K     |██████████████████████████████▏ | 829 kB 8.4 MB/s eta 0:00:01\r\u001b[K     |██████████████████████████████▌ | 839 kB 8.4 MB/s eta 0:00:01\r\u001b[K     |██████████████████████████████▉ | 849 kB 8.4 MB/s eta 0:00:01\r\u001b[K     |███████████████████████████████▎| 860 kB 8.4 MB/s eta 0:00:01\r\u001b[K     |███████████████████████████████▋| 870 kB 8.4 MB/s eta 0:00:01\r\u001b[K     |████████████████████████████████| 880 kB 8.4 MB/s eta 0:00:01\r\u001b[K     |████████████████████████████████| 881 kB 8.4 MB/s \n",
            "\u001b[?25hRequirement already satisfied: Jpype1>=0.6.1 in /usr/local/lib/python3.7/dist-packages (from customized_konlpy) (1.3.0)\n",
            "Requirement already satisfied: konlpy>=0.4.4 in /usr/local/lib/python3.7/dist-packages (from customized_konlpy) (0.6.0)\n",
            "Requirement already satisfied: typing-extensions in /usr/local/lib/python3.7/dist-packages (from Jpype1>=0.6.1->customized_konlpy) (3.7.4.3)\n",
            "Requirement already satisfied: numpy>=1.6 in /usr/local/lib/python3.7/dist-packages (from konlpy>=0.4.4->customized_konlpy) (1.19.5)\n",
            "Requirement already satisfied: lxml>=4.1.0 in /usr/local/lib/python3.7/dist-packages (from konlpy>=0.4.4->customized_konlpy) (4.2.6)\n",
            "Installing collected packages: customized-konlpy\n",
            "Successfully installed customized-konlpy-0.0.64\n"
          ]
        }
      ]
    },
    {
      "cell_type": "code",
      "source": [
        "from ckonlpy.tag import Twitter\n",
        "\n",
        "twitter = Twitter()\n",
        "twitter.morphs('은경이는 사무실로 갔습니다.')"
      ],
      "metadata": {
        "colab": {
          "base_uri": "https://localhost:8080/"
        },
        "id": "oKwDXrQGqmXB",
        "outputId": "fa724110-9f5e-4baa-8174-d36db3e95c1d"
      },
      "execution_count": 45,
      "outputs": [
        {
          "output_type": "stream",
          "name": "stderr",
          "text": [
            "/usr/local/lib/python3.7/dist-packages/konlpy/tag/_okt.py:17: UserWarning: \"Twitter\" has changed to \"Okt\" since KoNLPy v0.4.5.\n",
            "  warn('\"Twitter\" has changed to \"Okt\" since KoNLPy v0.4.5.')\n"
          ]
        },
        {
          "output_type": "execute_result",
          "data": {
            "text/plain": [
              "['은', '경이', '는', '사무실', '로', '갔습니다', '.']"
            ]
          },
          "metadata": {},
          "execution_count": 45
        }
      ]
    },
    {
      "cell_type": "code",
      "source": [
        "twitter.add_dictionary('은경이', 'Noun')"
      ],
      "metadata": {
        "id": "EAKdFIfhquqw"
      },
      "execution_count": 47,
      "outputs": []
    },
    {
      "cell_type": "code",
      "source": [
        "twitter.morphs('은경이는 사무실로 갔습니다.')"
      ],
      "metadata": {
        "colab": {
          "base_uri": "https://localhost:8080/"
        },
        "id": "2UrZFF_nq4Zo",
        "outputId": "d5f56eff-d197-45fb-bc32-3f2c58ab0c85"
      },
      "execution_count": 48,
      "outputs": [
        {
          "output_type": "execute_result",
          "data": {
            "text/plain": [
              "['은경이', '는', '사무실', '로', '갔습니다', '.']"
            ]
          },
          "metadata": {},
          "execution_count": 48
        }
      ]
    }
  ]
}