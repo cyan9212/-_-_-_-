{
  "nbformat": 4,
  "nbformat_minor": 0,
  "metadata": {
    "colab": {
      "name": "Torchtext_batch_first.ipynb",
      "provenance": []
    },
    "kernelspec": {
      "name": "python3",
      "display_name": "Python 3"
    },
    "language_info": {
      "name": "python"
    }
  },
  "cells": [
    {
      "cell_type": "markdown",
      "source": [
        "# 토치텍스트(TorchText)의 batch_first"
      ],
      "metadata": {
        "id": "4PvUoV0qaF1j"
      }
    },
    {
      "cell_type": "markdown",
      "source": [
        "## 1. 훈련 데이터와 테스트 데이터로 분리하기"
      ],
      "metadata": {
        "id": "XM3sZ170aIGT"
      }
    },
    {
      "cell_type": "code",
      "source": [
        "import urllib.request\n",
        "import pandas as pd\n",
        "\n",
        "urllib.request.urlretrieve(\"https://raw.githubusercontent.com/LawrenceDuan/IMDb-Review-Analysis/master/IMDb_Reviews.csv\", filename=\"IMDb_Reviews.csv\")"
      ],
      "metadata": {
        "colab": {
          "base_uri": "https://localhost:8080/"
        },
        "id": "Vhh5eGQOaLLK",
        "outputId": "c6cc976e-07bf-4646-a803-dfe3494a52ad"
      },
      "execution_count": 1,
      "outputs": [
        {
          "output_type": "execute_result",
          "data": {
            "text/plain": [
              "('IMDb_Reviews.csv', <http.client.HTTPMessage at 0x7fdc1d3b3a50>)"
            ]
          },
          "metadata": {},
          "execution_count": 1
        }
      ]
    },
    {
      "cell_type": "code",
      "source": [
        "df = pd.read_csv('IMDb_Reviews.csv', encoding='latin1')\n",
        "df.head()"
      ],
      "metadata": {
        "colab": {
          "base_uri": "https://localhost:8080/",
          "height": 206
        },
        "id": "6BKWftpYaP17",
        "outputId": "1fbc094e-d150-48b9-cb65-4a8db7b1ce6b"
      },
      "execution_count": 3,
      "outputs": [
        {
          "output_type": "execute_result",
          "data": {
            "text/html": [
              "\n",
              "  <div id=\"df-c5105fb2-c72a-459e-81ca-6046b75ec367\">\n",
              "    <div class=\"colab-df-container\">\n",
              "      <div>\n",
              "<style scoped>\n",
              "    .dataframe tbody tr th:only-of-type {\n",
              "        vertical-align: middle;\n",
              "    }\n",
              "\n",
              "    .dataframe tbody tr th {\n",
              "        vertical-align: top;\n",
              "    }\n",
              "\n",
              "    .dataframe thead th {\n",
              "        text-align: right;\n",
              "    }\n",
              "</style>\n",
              "<table border=\"1\" class=\"dataframe\">\n",
              "  <thead>\n",
              "    <tr style=\"text-align: right;\">\n",
              "      <th></th>\n",
              "      <th>review</th>\n",
              "      <th>sentiment</th>\n",
              "    </tr>\n",
              "  </thead>\n",
              "  <tbody>\n",
              "    <tr>\n",
              "      <th>0</th>\n",
              "      <td>My family and I normally do not watch local mo...</td>\n",
              "      <td>1</td>\n",
              "    </tr>\n",
              "    <tr>\n",
              "      <th>1</th>\n",
              "      <td>Believe it or not, this was at one time the wo...</td>\n",
              "      <td>0</td>\n",
              "    </tr>\n",
              "    <tr>\n",
              "      <th>2</th>\n",
              "      <td>After some internet surfing, I found the \"Home...</td>\n",
              "      <td>0</td>\n",
              "    </tr>\n",
              "    <tr>\n",
              "      <th>3</th>\n",
              "      <td>One of the most unheralded great works of anim...</td>\n",
              "      <td>1</td>\n",
              "    </tr>\n",
              "    <tr>\n",
              "      <th>4</th>\n",
              "      <td>It was the Sixties, and anyone with long hair ...</td>\n",
              "      <td>0</td>\n",
              "    </tr>\n",
              "  </tbody>\n",
              "</table>\n",
              "</div>\n",
              "      <button class=\"colab-df-convert\" onclick=\"convertToInteractive('df-c5105fb2-c72a-459e-81ca-6046b75ec367')\"\n",
              "              title=\"Convert this dataframe to an interactive table.\"\n",
              "              style=\"display:none;\">\n",
              "        \n",
              "  <svg xmlns=\"http://www.w3.org/2000/svg\" height=\"24px\"viewBox=\"0 0 24 24\"\n",
              "       width=\"24px\">\n",
              "    <path d=\"M0 0h24v24H0V0z\" fill=\"none\"/>\n",
              "    <path d=\"M18.56 5.44l.94 2.06.94-2.06 2.06-.94-2.06-.94-.94-2.06-.94 2.06-2.06.94zm-11 1L8.5 8.5l.94-2.06 2.06-.94-2.06-.94L8.5 2.5l-.94 2.06-2.06.94zm10 10l.94 2.06.94-2.06 2.06-.94-2.06-.94-.94-2.06-.94 2.06-2.06.94z\"/><path d=\"M17.41 7.96l-1.37-1.37c-.4-.4-.92-.59-1.43-.59-.52 0-1.04.2-1.43.59L10.3 9.45l-7.72 7.72c-.78.78-.78 2.05 0 2.83L4 21.41c.39.39.9.59 1.41.59.51 0 1.02-.2 1.41-.59l7.78-7.78 2.81-2.81c.8-.78.8-2.07 0-2.86zM5.41 20L4 18.59l7.72-7.72 1.47 1.35L5.41 20z\"/>\n",
              "  </svg>\n",
              "      </button>\n",
              "      \n",
              "  <style>\n",
              "    .colab-df-container {\n",
              "      display:flex;\n",
              "      flex-wrap:wrap;\n",
              "      gap: 12px;\n",
              "    }\n",
              "\n",
              "    .colab-df-convert {\n",
              "      background-color: #E8F0FE;\n",
              "      border: none;\n",
              "      border-radius: 50%;\n",
              "      cursor: pointer;\n",
              "      display: none;\n",
              "      fill: #1967D2;\n",
              "      height: 32px;\n",
              "      padding: 0 0 0 0;\n",
              "      width: 32px;\n",
              "    }\n",
              "\n",
              "    .colab-df-convert:hover {\n",
              "      background-color: #E2EBFA;\n",
              "      box-shadow: 0px 1px 2px rgba(60, 64, 67, 0.3), 0px 1px 3px 1px rgba(60, 64, 67, 0.15);\n",
              "      fill: #174EA6;\n",
              "    }\n",
              "\n",
              "    [theme=dark] .colab-df-convert {\n",
              "      background-color: #3B4455;\n",
              "      fill: #D2E3FC;\n",
              "    }\n",
              "\n",
              "    [theme=dark] .colab-df-convert:hover {\n",
              "      background-color: #434B5C;\n",
              "      box-shadow: 0px 1px 3px 1px rgba(0, 0, 0, 0.15);\n",
              "      filter: drop-shadow(0px 1px 2px rgba(0, 0, 0, 0.3));\n",
              "      fill: #FFFFFF;\n",
              "    }\n",
              "  </style>\n",
              "\n",
              "      <script>\n",
              "        const buttonEl =\n",
              "          document.querySelector('#df-c5105fb2-c72a-459e-81ca-6046b75ec367 button.colab-df-convert');\n",
              "        buttonEl.style.display =\n",
              "          google.colab.kernel.accessAllowed ? 'block' : 'none';\n",
              "\n",
              "        async function convertToInteractive(key) {\n",
              "          const element = document.querySelector('#df-c5105fb2-c72a-459e-81ca-6046b75ec367');\n",
              "          const dataTable =\n",
              "            await google.colab.kernel.invokeFunction('convertToInteractive',\n",
              "                                                     [key], {});\n",
              "          if (!dataTable) return;\n",
              "\n",
              "          const docLinkHtml = 'Like what you see? Visit the ' +\n",
              "            '<a target=\"_blank\" href=https://colab.research.google.com/notebooks/data_table.ipynb>data table notebook</a>'\n",
              "            + ' to learn more about interactive tables.';\n",
              "          element.innerHTML = '';\n",
              "          dataTable['output_type'] = 'display_data';\n",
              "          await google.colab.output.renderOutput(dataTable, element);\n",
              "          const docLink = document.createElement('div');\n",
              "          docLink.innerHTML = docLinkHtml;\n",
              "          element.appendChild(docLink);\n",
              "        }\n",
              "      </script>\n",
              "    </div>\n",
              "  </div>\n",
              "  "
            ],
            "text/plain": [
              "                                              review  sentiment\n",
              "0  My family and I normally do not watch local mo...          1\n",
              "1  Believe it or not, this was at one time the wo...          0\n",
              "2  After some internet surfing, I found the \"Home...          0\n",
              "3  One of the most unheralded great works of anim...          1\n",
              "4  It was the Sixties, and anyone with long hair ...          0"
            ]
          },
          "metadata": {},
          "execution_count": 3
        }
      ]
    },
    {
      "cell_type": "code",
      "source": [
        "df.shape"
      ],
      "metadata": {
        "colab": {
          "base_uri": "https://localhost:8080/"
        },
        "id": "dOla0ITDaU89",
        "outputId": "fc21a6df-c4d8-4f8d-b82a-26d08b1e4ec3"
      },
      "execution_count": 4,
      "outputs": [
        {
          "output_type": "execute_result",
          "data": {
            "text/plain": [
              "(50000, 2)"
            ]
          },
          "metadata": {},
          "execution_count": 4
        }
      ]
    },
    {
      "cell_type": "code",
      "source": [
        "train_df = df[:25000]\n",
        "test_df = df[25000:]"
      ],
      "metadata": {
        "id": "qLq2xB8ZaYVb"
      },
      "execution_count": 5,
      "outputs": []
    },
    {
      "cell_type": "code",
      "source": [
        "train_df = df.to_csv('train_data.csv', index=False)\n",
        "test_df = df.to_csv('test_data.csv', index=False)"
      ],
      "metadata": {
        "id": "tjhr0dk5aae7"
      },
      "execution_count": 6,
      "outputs": []
    },
    {
      "cell_type": "markdown",
      "source": [
        "## 2. 필드 정의하기(torchtext.data)"
      ],
      "metadata": {
        "id": "VjWsfVjzajBL"
      }
    },
    {
      "cell_type": "code",
      "source": [
        "from torchtext.legacy import data\n",
        "\n",
        "# batch_first 인자를 True로 설정\n",
        "TEXT = data.Field(sequential=True, use_vocab=True, lower=True, tokenize=str.split, batch_first=True, fix_length=20)\n",
        "LABEL = data.Field(sequential=False, use_vocab=False, batch_first=False, is_target=True)"
      ],
      "metadata": {
        "id": "9JVjM0cfakuC"
      },
      "execution_count": 9,
      "outputs": []
    },
    {
      "cell_type": "markdown",
      "source": [
        "- batch_first : 미니 배치 차원을 맨 앞으로 하여 데이터를 불러올 것인지 여부. (False가 기본값)"
      ],
      "metadata": {
        "id": "6Xq5PR-Ka-YQ"
      }
    },
    {
      "cell_type": "markdown",
      "source": [
        "## 3. 데이터셋 / 단어 집합 / 데이터로더 만들기"
      ],
      "metadata": {
        "id": "hN6S5MTCa38k"
      }
    },
    {
      "cell_type": "code",
      "source": [
        "from torchtext.legacy.data import TabularDataset\n",
        "from torchtext.legacy.data import Iterator\n",
        "\n",
        "# TabularDataset은 데이터를 불러오면서 필드에서 정의했던 토큰화 방법으로 토큰화를 수행합니다.\n",
        "train_data, test_data = TabularDataset.splits(path='.', train='train_data.csv', test='test_data.csv', format='csv', fields=[('text', TEXT), ('label', LABEL)], skip_header=True)\n",
        "\n",
        "# 정의한 필드에 build_vocab() 도구를 사용하면 단어 집합을 생성한다.\n",
        "TEXT.build_vocab(train_data ,min_freq=10, max_size=10000)"
      ],
      "metadata": {
        "id": "G-HBoJz2bF-b"
      },
      "execution_count": 12,
      "outputs": []
    },
    {
      "cell_type": "code",
      "source": [
        "batch_size = 5\n",
        "\n",
        "train_loader = Iterator(dataset=train_data, batch_size=batch_size)\n",
        "test_loader = Iterator(dataset=test_data, batch_size=batch_size)\n",
        "\n",
        "batch = next(iter(train_loader))"
      ],
      "metadata": {
        "id": "nv8eeV_5bx20"
      },
      "execution_count": 14,
      "outputs": []
    },
    {
      "cell_type": "code",
      "source": [
        "print(batch.text)"
      ],
      "metadata": {
        "colab": {
          "base_uri": "https://localhost:8080/"
        },
        "id": "JKz18DbocT3b",
        "outputId": "3d09a0d3-7f69-490d-89d0-adcf7774db41"
      },
      "execution_count": 15,
      "outputs": [
        {
          "output_type": "stream",
          "name": "stdout",
          "text": [
            "tensor([[ 610,  610,  610,  610,  610,   48,  408,   64,    9, 2974, 3015, 2354,\n",
            "          202,   26,   71, 1906,    6,    0,  185,   28],\n",
            "        [ 451,  868,    2,    0,    0,   34,  276,   36,    0, 5154,    2,   25,\n",
            "          315, 8129,    7,    2,   59, 1600,  991,   49],\n",
            "        [   9,  202,    9,   14,    3,  107, 9742,   50,    9, 6415,    2,  638,\n",
            "            6,  109,    0, 2249,  706, 1751, 2294,    6],\n",
            "        [1926,    6,    2,  204,   10,   20,   14, 1129,    8,    0,   12,    7,\n",
            "          595,  823,    6,  180,  123,    0,    0,  124],\n",
            "        [   9,   14,    0,   15,    9,  267,    3,  533,  397, 7374,    5,  379,\n",
            "            0, 1673,    0,    0,   34,    2,   88, 8212]])\n"
          ]
        }
      ]
    },
    {
      "cell_type": "code",
      "source": [
        "print(batch.text.shape)"
      ],
      "metadata": {
        "colab": {
          "base_uri": "https://localhost:8080/"
        },
        "id": "LYK-GNDtcXmq",
        "outputId": "d7664421-dfcb-4b20-e2c6-52a074497390"
      },
      "execution_count": 16,
      "outputs": [
        {
          "output_type": "stream",
          "name": "stdout",
          "text": [
            "torch.Size([5, 20])\n"
          ]
        }
      ]
    },
    {
      "cell_type": "markdown",
      "source": [
        "배치 크기가 5이기 때문에 5개의 샘플이 출력되는 것을 볼 수 있습니다.\n",
        "\n",
        "각 샘플의 길이는 20의 길이를 가지는데, 이는 앞서 초기에 필드를 정의할 때 fix_length를 20으로 정해주었기 때문입니다. \n",
        "\n",
        "다시 말해 **`하나의 미니 배치의 크기는 (배치 크기 × fix_length)입니다.`**"
      ],
      "metadata": {
        "id": "kYVzZEv9daMf"
      }
    },
    {
      "cell_type": "markdown",
      "source": [
        "이제 batch_first를 False로 한 경우를 보겠습니다."
      ],
      "metadata": {
        "id": "lmNYwJ0McfSl"
      }
    },
    {
      "cell_type": "markdown",
      "source": [
        "## 4. 필드 재정의하기(torchtext.data)"
      ],
      "metadata": {
        "id": "R6y3Ax_XccCK"
      }
    },
    {
      "cell_type": "code",
      "source": [
        "# 필드 정의\n",
        "TEXT = data.Field(sequential=True,\n",
        "                  use_vocab=True,\n",
        "                  tokenize=str.split,\n",
        "                  lower=True,\n",
        "                  fix_length=20)\n",
        "\n",
        "LABEL = data.Field(sequential=False,\n",
        "                   use_vocab=False,\n",
        "                   batch_first=False,\n",
        "                   is_target=True)"
      ],
      "metadata": {
        "id": "RntaSPO0chDy"
      },
      "execution_count": 17,
      "outputs": []
    },
    {
      "cell_type": "markdown",
      "source": [
        "TEXT 필드에서 batch_first = True 인자를 제거하였습니다. 기본값이 False이므로 batch_first의 값이 False가 됩니다."
      ],
      "metadata": {
        "id": "hwulghALcnCS"
      }
    },
    {
      "cell_type": "markdown",
      "source": [
        "## 5. batch_first = False로 하였을 경우의 텐서 크기"
      ],
      "metadata": {
        "id": "BT027BWackzi"
      }
    },
    {
      "cell_type": "code",
      "source": [
        "# TabularDataset은 데이터를 불러오면서 필드에서 정의했던 토큰화 방법으로 토큰화를 수행합니다.\n",
        "train_data, test_data = TabularDataset.splits(path='.', train='train_data.csv', test='test_data.csv', format='csv', fields=[('text', TEXT), ('label', LABEL)], skip_header=True)\n",
        "\n",
        "# 정의한 필드에 build_vocab() 도구를 사용하면 단어 집합을 생성한다.\n",
        "TEXT.build_vocab(train_data ,min_freq=10, max_size=10000)"
      ],
      "metadata": {
        "id": "PYbWzkjCcqry"
      },
      "execution_count": 18,
      "outputs": []
    },
    {
      "cell_type": "code",
      "source": [
        "batch_size = 5\n",
        "\n",
        "train_loader = Iterator(dataset=train_data, batch_size=batch_size)\n",
        "test_loader = Iterator(dataset=test_data, batch_size=batch_size)\n",
        "\n",
        "batch = next(iter(train_loader))"
      ],
      "metadata": {
        "id": "HGsxaFQpcxhz"
      },
      "execution_count": 19,
      "outputs": []
    },
    {
      "cell_type": "code",
      "source": [
        "print(batch.text)"
      ],
      "metadata": {
        "colab": {
          "base_uri": "https://localhost:8080/"
        },
        "id": "fM58Jz3lc5KC",
        "outputId": "d815bfc7-d977-4d60-9a34-21a183575616"
      },
      "execution_count": 20,
      "outputs": [
        {
          "output_type": "stream",
          "name": "stdout",
          "text": [
            "tensor([[ 610,  451,    9, 1926,    9],\n",
            "        [ 610,  868,  202,    6,   14],\n",
            "        [ 610,    2,    9,    2,    0],\n",
            "        [ 610,    0,   14,  204,   15],\n",
            "        [ 610,    0,    3,   10,    9],\n",
            "        [  48,   34,  107,   20,  267],\n",
            "        [ 408,  276, 9742,   14,    3],\n",
            "        [  64,   36,   50, 1129,  533],\n",
            "        [   9,    0,    9,    8,  397],\n",
            "        [2974, 5154, 6415,    0, 7374],\n",
            "        [3015,    2,    2,   12,    5],\n",
            "        [2354,   25,  638,    7,  379],\n",
            "        [ 202,  315,    6,  595,    0],\n",
            "        [  26, 8129,  109,  823, 1673],\n",
            "        [  71,    7,    0,    6,    0],\n",
            "        [1906,    2, 2249,  180,    0],\n",
            "        [   6,   59,  706,  123,   34],\n",
            "        [   0, 1600, 1751,    0,    2],\n",
            "        [ 185,  991, 2294,    0,   88],\n",
            "        [  28,   49,    6,  124, 8212]])\n"
          ]
        }
      ]
    },
    {
      "cell_type": "code",
      "source": [
        "print(batch.text.shape)"
      ],
      "metadata": {
        "colab": {
          "base_uri": "https://localhost:8080/"
        },
        "id": "qTUZqR_Sc5sp",
        "outputId": "324537af-6fcd-4b6e-c66c-d049312f537d"
      },
      "execution_count": 21,
      "outputs": [
        {
          "output_type": "stream",
          "name": "stdout",
          "text": [
            "torch.Size([20, 5])\n"
          ]
        }
      ]
    },
    {
      "cell_type": "markdown",
      "source": [
        "하나의 미니 배치의 크기는 (fix_length × 배치 크기)입니다."
      ],
      "metadata": {
        "id": "8dGVN5Zuc8-S"
      }
    }
  ]
}